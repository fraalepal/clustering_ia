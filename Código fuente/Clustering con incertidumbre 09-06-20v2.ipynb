{
 "cells": [
  {
   "cell_type": "code",
   "execution_count": null,
   "metadata": {},
   "outputs": [],
   "source": []
  },
  {
   "cell_type": "code",
   "execution_count": 22,
   "metadata": {},
   "outputs": [],
   "source": [
    "clusters = [((x,y), r)] #Tupla con las coordenadas del centro y el radio del cluster\n",
    "pertenencias = {(1,2):(0.97,0.03)} #Diccionario de tuplas, la Key será el punto y en value, por orden de cluster, su pertenencia"
   ]
  },
  {
   "cell_type": "code",
   "execution_count": 264,
   "metadata": {},
   "outputs": [],
   "source": [
    "from math import sqrt \n",
    "  \n",
    "# Function to find the circle on  \n",
    "# which the given three points lie  \n",
    "def find_circle(point1, point2, point3) : \n",
    "    x1 = point1[0];\n",
    "    x2 = point2[0];\n",
    "    x3 = point3[0];\n",
    "    y1 = point1[1];\n",
    "    y2 = point2[1];\n",
    "    y3 = point3[1];\n",
    "    \n",
    "    x12 = x1 - x2;  \n",
    "    x13 = x1 - x3;  \n",
    "  \n",
    "    y12 = y1 - y2;  \n",
    "    y13 = y1 - y3;  \n",
    "  \n",
    "    y31 = y3 - y1;  \n",
    "    y21 = y2 - y1;  \n",
    "  \n",
    "    x31 = x3 - x1;  \n",
    "    x21 = x2 - x1;  \n",
    "  \n",
    "    # x1^2 - x3^2  \n",
    "    sx13 = pow(x1, 2) - pow(x3, 2);  \n",
    "  \n",
    "    # y1^2 - y3^2  \n",
    "    sy13 = pow(y1, 2) - pow(y3, 2);  \n",
    "  \n",
    "    sx21 = pow(x2, 2) - pow(x1, 2);  \n",
    "    sy21 = pow(y2, 2) - pow(y1, 2);  \n",
    "  \n",
    "    f = (((sx13) * (x12) + (sy13) * \n",
    "          (x12) + (sx21) * (x13) + \n",
    "          (sy21) * (x13)) / (2 * \n",
    "          ((y31) * (x12) - (y21) * (x13)))); \n",
    "              \n",
    "    g = (((sx13) * (y12) + (sy13) * (y12) + \n",
    "          (sx21) * (y13) + (sy21) * (y13)) / \n",
    "          (2 * ((x31) * (y12) - (x21) * (y13))));  \n",
    "  \n",
    "    c = (-pow(x1, 2) - pow(y1, 2) - \n",
    "         2 * g * x1 - 2 * f * y1);  \n",
    "  \n",
    "    # eqn of circle be x^2 + y^2 + 2*g*x + 2*f*y + c = 0  \n",
    "    # where centre is (h = -g, k = -f) and  \n",
    "    # radius r as r^2 = h^2 + k^2 - c  \n",
    "    h = -g;  \n",
    "    k = -f;  \n",
    "    sqr_of_r = h * h + k * k - c;  \n",
    "  \n",
    "    # r is the radius  \n",
    "    r = round(sqrt(sqr_of_r), 5);  \n",
    "    \n",
    "    return ((h, k), r)\n",
    "\n"
   ]
  },
  {
   "cell_type": "code",
   "execution_count": 265,
   "metadata": {},
   "outputs": [
    {
     "name": "stdout",
     "output_type": "stream",
     "text": [
      "((3.0, 2.0), 2.23607)\n"
     ]
    }
   ],
   "source": [
    "    x1 = 1 ; y1 = 1;  \n",
    "    x2 = 2 ; y2 = 4;  \n",
    "    x3 = 5 ; y3 = 3;  \n",
    "    centre_radius = find_circle((x1, y1), (x2, y2), (x3, y3));  \n",
    "    print(centre_radius)"
   ]
  },
  {
   "cell_type": "code",
   "execution_count": 266,
   "metadata": {},
   "outputs": [],
   "source": [
    "def encontrar_centro_radio(puntos):\n",
    "        circles = [];\n",
    "        for x in range(0, len(puntos), 3):\n",
    "            if len(puntos)-x>=3:\n",
    "                circles.append(find_circle(puntos[x], puntos[x+1], puntos[x+2]))\n",
    "            elif len(puntos)-x==2:\n",
    "                circles.append(find_circle(puntos[x], puntos[0], puntos[1]))\n",
    "            else:\n",
    "                circles.append(find_circle(puntos[x], puntos[x+1], puntos[0]))\n",
    "        centros_x = [];\n",
    "        for x in range (0, len(circles)):\n",
    "            centros_x.append(circles[x][0][0])\n",
    "        centros_y = [];\n",
    "        for x in range (0, len(circles)):\n",
    "            centros_y.append(circles[x][0][1])\n",
    "        centro_media = (sum(centros_x)/len(centros_x), sum(centros_y)/len(centros_y))\n",
    "        radios = []\n",
    "        for x in range (0, len(circles)):\n",
    "            radios.append(circles[x][1])\n",
    "        radio_media = sum(radios)/len(radios)\n",
    "        \n",
    "        return (centro_media, radio_media)"
   ]
  },
  {
   "cell_type": "code",
   "execution_count": 267,
   "metadata": {},
   "outputs": [
    {
     "name": "stdout",
     "output_type": "stream",
     "text": [
      "((2.0033333333333334, 2.0033333333333334), 0.9966833333333334)\n",
      "((9.006830601092895, 5.002240437158469), 2.023026666666667)\n"
     ]
    }
   ],
   "source": [
    "puntos1 = [(3, 2), (2, 3), (1, 2), (2, 1), (1.2, 1.4), (1.2, 2.6), (2.7, 1.3), (2.8, 2.6)]\n",
    "puntos2 = [(9, 7), (7.7, 6.5), (7, 5), (11, 5), (9, 3), (10.3, 3.5), (7.3, 4), (10.3, 6.5)]\n",
    "print(encontrar_centro_radio(puntos1))\n",
    "print(encontrar_centro_radio(puntos2))"
   ]
  },
  {
   "cell_type": "code",
   "execution_count": 268,
   "metadata": {},
   "outputs": [
    {
     "name": "stdout",
     "output_type": "stream",
     "text": [
      "[(1.2, 1.4), (3, 2), (2, 1)]\n"
     ]
    }
   ],
   "source": [
    "\n",
    "print(sample(puntos1,3))"
   ]
  },
  {
   "cell_type": "code",
   "execution_count": 269,
   "metadata": {},
   "outputs": [],
   "source": [
    "from random import sample \n",
    "import random as r \n",
    "def encontrar_centro_radio_random(puntos, seed):\n",
    "        circles = [];\n",
    "        for x in range(0, len(puntos)):\n",
    "            r.seed(seed)\n",
    "            puntos_random=sample(puntos,3)\n",
    "            circles.append(find_circle(puntos_random[0], puntos_random[1], puntos_random[2]))\n",
    "        centros_x = [];\n",
    "        for x in range (0, len(circles)):\n",
    "            centros_x.append(circles[x][0][0])\n",
    "        centros_y = [];\n",
    "        for x in range (0, len(circles)):\n",
    "            centros_y.append(circles[x][0][1])\n",
    "        centro_media = (sum(centros_x)/len(centros_x), sum(centros_y)/len(centros_y))\n",
    "        radios = []\n",
    "        for x in range (0, len(circles)):\n",
    "            radios.append(circles[x][1])\n",
    "        radio_media = sum(radios)/len(radios)\n",
    "        \n",
    "        return (centro_media, radio_media)"
   ]
  },
  {
   "cell_type": "code",
   "execution_count": 314,
   "metadata": {},
   "outputs": [
    {
     "name": "stdout",
     "output_type": "stream",
     "text": [
      "((2.0, 1.9999999999999998), 1.0)\n",
      "((9.0, 5.0), 2.0)\n"
     ]
    }
   ],
   "source": [
    "puntos1 = [(3., 2.), (2., 3.), (1., 2.), (2., 1.), (1.2, 1.4), (1.2, 2.6), (2.7, 1.3), (2.8, 2.6)]\n",
    "puntos2 = [(9., 7.), (7.7, 6.5), (7., 5.), (11., 5.), (9., 3.), (10.3, 3.5), (7.3, 4), (10.3, 6.5)]\n",
    "seed = 1\n",
    "print(encontrar_centro_radio_random(puntos1, seed))\n",
    "print(encontrar_centro_radio_random(puntos2, seed))"
   ]
  },
  {
   "cell_type": "code",
   "execution_count": null,
   "metadata": {},
   "outputs": [],
   "source": []
  },
  {
   "cell_type": "code",
   "execution_count": 283,
   "metadata": {},
   "outputs": [],
   "source": [
    "from math import sqrt \n",
    "def distancia_punto_centro(punto, centro):\n",
    "    x1 = punto[0]\n",
    "    x2 = centro[0]\n",
    "    y1 = punto[1]\n",
    "    y2 = centro[1]\n",
    "    \n",
    "    return sqrt((x2-x1)**2+(y2-y1)**2)\n",
    "    "
   ]
  },
  {
   "cell_type": "code",
   "execution_count": 312,
   "metadata": {},
   "outputs": [],
   "source": [
    "def grado_pertenencia(clusters, punto):\n",
    "    grados = [];\n",
    "    for x in clusters:\n",
    "        distancia_centro = distancia_punto_centro(punto, x[0])\n",
    "        distancia = abs(distancia_centro-x[1])\n",
    "        if distancia==0:\n",
    "            grados.append(20) #Este valor \"infla\" la pertenencia por estar justo en la circunferencia\n",
    "        else:\n",
    "            grados.append(1/distancia)\n",
    "    grados_normalizados = [];\n",
    "    for x in grados:\n",
    "        grados_normalizados.append(x/(sum(grados)));\n",
    "    return grados_normalizados\n",
    "    "
   ]
  },
  {
   "cell_type": "code",
   "execution_count": 313,
   "metadata": {},
   "outputs": [
    {
     "name": "stdout",
     "output_type": "stream",
     "text": [
      "[0.9711157140376818, 0.02219335170620128, 0.006690934256116968]\n"
     ]
    },
    {
     "data": {
      "text/plain": [
       "[0.006493860807423189, 0.987368841938623, 0.006137297253953773]"
      ]
     },
     "execution_count": 313,
     "metadata": {},
     "output_type": "execute_result"
    }
   ],
   "source": [
    "punto1 = (3.1, 2.1)\n",
    "punto2 = (9., 7.)\n",
    "clusters = [((2, 2), 1), ((9, 5), 2), ((12, 15), 0.5)]\n",
    "print(grado_pertenencia(clusters, punto1))\n",
    "grado_pertenencia(clusters, punto2)"
   ]
  },
  {
   "cell_type": "code",
   "execution_count": null,
   "metadata": {},
   "outputs": [],
   "source": []
  },
  {
   "cell_type": "code",
   "execution_count": null,
   "metadata": {},
   "outputs": [],
   "source": []
  },
  {
   "cell_type": "code",
   "execution_count": null,
   "metadata": {},
   "outputs": [],
   "source": []
  },
  {
   "cell_type": "code",
   "execution_count": null,
   "metadata": {},
   "outputs": [],
   "source": []
  },
  {
   "cell_type": "code",
   "execution_count": null,
   "metadata": {},
   "outputs": [],
   "source": []
  },
  {
   "cell_type": "code",
   "execution_count": null,
   "metadata": {},
   "outputs": [],
   "source": []
  },
  {
   "cell_type": "code",
   "execution_count": null,
   "metadata": {},
   "outputs": [],
   "source": []
  }
 ],
 "metadata": {
  "kernelspec": {
   "display_name": "Python 3",
   "language": "python",
   "name": "python3"
  },
  "language_info": {
   "codemirror_mode": {
    "name": "ipython",
    "version": 3
   },
   "file_extension": ".py",
   "mimetype": "text/x-python",
   "name": "python",
   "nbconvert_exporter": "python",
   "pygments_lexer": "ipython3",
   "version": "3.7.6"
  }
 },
 "nbformat": 4,
 "nbformat_minor": 4
}
