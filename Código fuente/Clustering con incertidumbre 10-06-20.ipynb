{
 "cells": [
  {
   "cell_type": "code",
   "execution_count": null,
   "metadata": {},
   "outputs": [],
   "source": []
  },
  {
   "cell_type": "code",
   "execution_count": 1,
   "metadata": {},
   "outputs": [
    {
     "ename": "NameError",
     "evalue": "name 'x' is not defined",
     "output_type": "error",
     "traceback": [
      "\u001b[1;31m---------------------------------------------------------------------------\u001b[0m",
      "\u001b[1;31mNameError\u001b[0m                                 Traceback (most recent call last)",
      "\u001b[1;32m<ipython-input-1-b3f0b07904cd>\u001b[0m in \u001b[0;36m<module>\u001b[1;34m\u001b[0m\n\u001b[1;32m----> 1\u001b[1;33m \u001b[0mclusters\u001b[0m \u001b[1;33m=\u001b[0m \u001b[1;33m[\u001b[0m\u001b[1;33m(\u001b[0m\u001b[1;33m(\u001b[0m\u001b[0mx\u001b[0m\u001b[1;33m,\u001b[0m\u001b[0my\u001b[0m\u001b[1;33m)\u001b[0m\u001b[1;33m,\u001b[0m \u001b[0mr\u001b[0m\u001b[1;33m)\u001b[0m\u001b[1;33m]\u001b[0m \u001b[1;31m#Tupla con las coordenadas del centro y el radio del cluster\u001b[0m\u001b[1;33m\u001b[0m\u001b[1;33m\u001b[0m\u001b[0m\n\u001b[0m\u001b[0;32m      2\u001b[0m \u001b[0mpertenencias\u001b[0m \u001b[1;33m=\u001b[0m \u001b[1;33m{\u001b[0m\u001b[1;33m(\u001b[0m\u001b[1;36m1\u001b[0m\u001b[1;33m,\u001b[0m\u001b[1;36m2\u001b[0m\u001b[1;33m)\u001b[0m\u001b[1;33m:\u001b[0m\u001b[1;33m(\u001b[0m\u001b[1;36m0.97\u001b[0m\u001b[1;33m,\u001b[0m\u001b[1;36m0.03\u001b[0m\u001b[1;33m)\u001b[0m\u001b[1;33m}\u001b[0m \u001b[1;31m#Diccionario de tuplas, la Key será el punto y en value, por orden de cluster, su pertenencia\u001b[0m\u001b[1;33m\u001b[0m\u001b[1;33m\u001b[0m\u001b[0m\n",
      "\u001b[1;31mNameError\u001b[0m: name 'x' is not defined"
     ]
    }
   ],
   "source": [
    "clusters = [((x,y), r)] #Tupla con las coordenadas del centro y el radio del cluster\n",
    "pertenencias = {(1,2):(0.97,0.03)} #Diccionario de tuplas, la Key será el punto y en value, por orden de cluster, su pertenencia"
   ]
  },
  {
   "cell_type": "code",
   "execution_count": 2,
   "metadata": {},
   "outputs": [],
   "source": [
    "from math import sqrt \n",
    "  \n",
    "# Function to find the circle on  \n",
    "# which the given three points lie  \n",
    "def find_circle(point1, point2, point3) : \n",
    "    x1 = point1[0];\n",
    "    x2 = point2[0];\n",
    "    x3 = point3[0];\n",
    "    y1 = point1[1];\n",
    "    y2 = point2[1];\n",
    "    y3 = point3[1];\n",
    "    \n",
    "    x12 = x1 - x2;  \n",
    "    x13 = x1 - x3;  \n",
    "  \n",
    "    y12 = y1 - y2;  \n",
    "    y13 = y1 - y3;  \n",
    "  \n",
    "    y31 = y3 - y1;  \n",
    "    y21 = y2 - y1;  \n",
    "  \n",
    "    x31 = x3 - x1;  \n",
    "    x21 = x2 - x1;  \n",
    "  \n",
    "    # x1^2 - x3^2  \n",
    "    sx13 = pow(x1, 2) - pow(x3, 2);  \n",
    "  \n",
    "    # y1^2 - y3^2  \n",
    "    sy13 = pow(y1, 2) - pow(y3, 2);  \n",
    "  \n",
    "    sx21 = pow(x2, 2) - pow(x1, 2);  \n",
    "    sy21 = pow(y2, 2) - pow(y1, 2);  \n",
    "  \n",
    "    f = (((sx13) * (x12) + (sy13) * \n",
    "          (x12) + (sx21) * (x13) + \n",
    "          (sy21) * (x13)) / (2 * \n",
    "          ((y31) * (x12) - (y21) * (x13)))); \n",
    "              \n",
    "    g = (((sx13) * (y12) + (sy13) * (y12) + \n",
    "          (sx21) * (y13) + (sy21) * (y13)) / \n",
    "          (2 * ((x31) * (y12) - (x21) * (y13))));  \n",
    "  \n",
    "    c = (-pow(x1, 2) - pow(y1, 2) - \n",
    "         2 * g * x1 - 2 * f * y1);  \n",
    "  \n",
    "    # eqn of circle be x^2 + y^2 + 2*g*x + 2*f*y + c = 0  \n",
    "    # where centre is (h = -g, k = -f) and  \n",
    "    # radius r as r^2 = h^2 + k^2 - c  \n",
    "    h = -g;  \n",
    "    k = -f;  \n",
    "    sqr_of_r = h * h + k * k - c;  \n",
    "  \n",
    "    # r is the radius  \n",
    "    r = round(sqrt(sqr_of_r), 5);  \n",
    "    \n",
    "    return ((h, k), r) #Devolvemos el círculo como una tupla que definimos anteriormente, centro y radio\n",
    "\n"
   ]
  },
  {
   "cell_type": "code",
   "execution_count": 3,
   "metadata": {},
   "outputs": [
    {
     "name": "stdout",
     "output_type": "stream",
     "text": [
      "((3.0, 2.0), 2.23607)\n"
     ]
    }
   ],
   "source": [
    "    x1 = 1 ; y1 = 1;  \n",
    "    x2 = 2 ; y2 = 4;  \n",
    "    x3 = 5 ; y3 = 3;  \n",
    "    centre_radius = find_circle((x1, y1), (x2, y2), (x3, y3));  \n",
    "    print(centre_radius)"
   ]
  },
  {
   "cell_type": "code",
   "execution_count": 4,
   "metadata": {},
   "outputs": [],
   "source": [
    "def encontrar_centro_radio(puntos):\n",
    "        circles = [];\n",
    "        for x in range(0, len(puntos), 3):\n",
    "            if len(puntos)-x>=3:\n",
    "                circles.append(find_circle(puntos[x], puntos[x+1], puntos[x+2]))\n",
    "            elif len(puntos)-x==2:\n",
    "                circles.append(find_circle(puntos[x], puntos[0], puntos[1]))\n",
    "            else:\n",
    "                circles.append(find_circle(puntos[x], puntos[x+1], puntos[0]))\n",
    "        centros_x = [];\n",
    "        for x in range (0, len(circles)):\n",
    "            centros_x.append(circles[x][0][0])\n",
    "        centros_y = [];\n",
    "        for x in range (0, len(circles)):\n",
    "            centros_y.append(circles[x][0][1])\n",
    "        centro_media = (sum(centros_x)/len(centros_x), sum(centros_y)/len(centros_y))\n",
    "        radios = []\n",
    "        for x in range (0, len(circles)):\n",
    "            radios.append(circles[x][1])\n",
    "        radio_media = sum(radios)/len(radios)\n",
    "        \n",
    "        return (centro_media, radio_media)"
   ]
  },
  {
   "cell_type": "code",
   "execution_count": 5,
   "metadata": {},
   "outputs": [
    {
     "name": "stdout",
     "output_type": "stream",
     "text": [
      "((2.0033333333333334, 2.0033333333333334), 0.9966833333333334)\n",
      "((9.006830601092895, 5.002240437158469), 2.023026666666667)\n"
     ]
    }
   ],
   "source": [
    "#Cogemos solo los puntos del primer ejemplo dado en puntos.txt, dado que es mucho más diferenciable qué punto pertenece\n",
    "#a qué circunferencia\n",
    "puntos1 = [(3, 2), (2, 3), (1, 2), (2, 1), (1.2, 1.4), (1.2, 2.6), (2.7, 1.3), (2.8, 2.6)]\n",
    "puntos2 = [(9, 7), (7.7, 6.5), (7, 5), (11, 5), (9, 3), (10.3, 3.5), (7.3, 4), (10.3, 6.5)]\n",
    "print(encontrar_centro_radio(puntos1))\n",
    "print(encontrar_centro_radio(puntos2))"
   ]
  },
  {
   "cell_type": "code",
   "execution_count": 6,
   "metadata": {},
   "outputs": [
    {
     "ename": "NameError",
     "evalue": "name 'sample' is not defined",
     "output_type": "error",
     "traceback": [
      "\u001b[1;31m---------------------------------------------------------------------------\u001b[0m",
      "\u001b[1;31mNameError\u001b[0m                                 Traceback (most recent call last)",
      "\u001b[1;32m<ipython-input-6-eaef193827bc>\u001b[0m in \u001b[0;36m<module>\u001b[1;34m\u001b[0m\n\u001b[1;32m----> 1\u001b[1;33m \u001b[0mprint\u001b[0m\u001b[1;33m(\u001b[0m\u001b[0msample\u001b[0m\u001b[1;33m(\u001b[0m\u001b[0mpuntos1\u001b[0m\u001b[1;33m,\u001b[0m\u001b[1;36m3\u001b[0m\u001b[1;33m)\u001b[0m\u001b[1;33m)\u001b[0m\u001b[1;33m\u001b[0m\u001b[1;33m\u001b[0m\u001b[0m\n\u001b[0m",
      "\u001b[1;31mNameError\u001b[0m: name 'sample' is not defined"
     ]
    }
   ],
   "source": [
    "\n",
    "print(sample(puntos1,3))"
   ]
  },
  {
   "cell_type": "code",
   "execution_count": 7,
   "metadata": {},
   "outputs": [],
   "source": [
    "from random import sample \n",
    "import random as r \n",
    "def encontrar_centro_radio_random(puntos, seed):\n",
    "        circles = [];\n",
    "        for x in range(0, len(puntos)): #Ampliable al valor que se quiera dado que se cogerán puntos aleatoriamente siempre\n",
    "            r.seed(seed)\n",
    "            puntos_random=sample(puntos,3)\n",
    "            circles.append(find_circle(puntos_random[0], puntos_random[1], puntos_random[2]))\n",
    "        centros_x = [];\n",
    "        for x in range (0, len(circles)):\n",
    "            centros_x.append(circles[x][0][0])\n",
    "        centros_y = [];\n",
    "        for x in range (0, len(circles)):\n",
    "            centros_y.append(circles[x][0][1])\n",
    "        centro_media = (sum(centros_x)/len(centros_x), sum(centros_y)/len(centros_y))\n",
    "        radios = []\n",
    "        for x in range (0, len(circles)):\n",
    "            radios.append(circles[x][1])\n",
    "        radio_media = sum(radios)/len(radios)\n",
    "        \n",
    "        return (centro_media, radio_media)"
   ]
  },
  {
   "cell_type": "code",
   "execution_count": 8,
   "metadata": {},
   "outputs": [
    {
     "name": "stdout",
     "output_type": "stream",
     "text": [
      "((2.0, 1.9999999999999998), 1.0)\n",
      "((9.0, 5.0), 2.0)\n"
     ]
    }
   ],
   "source": [
    "#Cogemos solo los puntos del primer ejemplo dado en puntos.txt, dado que es mucho más diferenciable qué punto pertenece\n",
    "#a qué circunferencia\n",
    "puntos1 = [(3., 2.), (2., 3.), (1., 2.), (2., 1.), (1.2, 1.4), (1.2, 2.6), (2.7, 1.3), (2.8, 2.6)]\n",
    "puntos2 = [(9., 7.), (7.7, 6.5), (7., 5.), (11., 5.), (9., 3.), (10.3, 3.5), (7.3, 4), (10.3, 6.5)]\n",
    "seed = 1\n",
    "print(encontrar_centro_radio_random(puntos1, seed))\n",
    "print(encontrar_centro_radio_random(puntos2, seed))"
   ]
  },
  {
   "cell_type": "code",
   "execution_count": null,
   "metadata": {},
   "outputs": [],
   "source": []
  },
  {
   "cell_type": "code",
   "execution_count": 9,
   "metadata": {},
   "outputs": [],
   "source": [
    "from math import sqrt \n",
    "def distancia_punto_centro(punto, centro):\n",
    "    x1 = punto[0]\n",
    "    x2 = centro[0]\n",
    "    y1 = punto[1]\n",
    "    y2 = centro[1]\n",
    "    \n",
    "    return sqrt((x2-x1)**2+(y2-y1)**2)\n",
    "    "
   ]
  },
  {
   "cell_type": "code",
   "execution_count": 10,
   "metadata": {},
   "outputs": [],
   "source": [
    "def grado_pertenencia(clusters, punto):\n",
    "    grados = [];\n",
    "    for x in clusters:\n",
    "        distancia_centro = distancia_punto_centro(punto, x[0])\n",
    "        distancia = abs(distancia_centro-x[1])\n",
    "        if distancia==0:\n",
    "            grados.append(20) #Este valor \"infla\" la pertenencia por estar justo en la circunferencia EXPLICAR QUE PUNTO MUY CERCANO A LA CIRCUNFERENCIA, SI PONÍAMOS 1, VALÍA MUCHÍSIMO MÁS QUE UNO QUE ESTÉ JUSTO EN ELLA\n",
    "        else:\n",
    "            grados.append(1/distancia)\n",
    "    grados_normalizados = [];\n",
    "    for x in grados:\n",
    "        grados_normalizados.append(x/(sum(grados)));\n",
    "    return grados_normalizados\n",
    "    "
   ]
  },
  {
   "cell_type": "code",
   "execution_count": 11,
   "metadata": {},
   "outputs": [
    {
     "name": "stdout",
     "output_type": "stream",
     "text": [
      "[0.9711157140376818, 0.02219335170620128, 0.006690934256116968]\n"
     ]
    },
    {
     "data": {
      "text/plain": [
       "[0.006493860807423189, 0.987368841938623, 0.006137297253953773]"
      ]
     },
     "execution_count": 11,
     "metadata": {},
     "output_type": "execute_result"
    }
   ],
   "source": [
    "punto1 = (3.1, 2.1)\n",
    "punto2 = (9., 7.)\n",
    "clusters = [((2, 2), 1), ((9, 5), 2), ((12, 15), 0.5)]\n",
    "print(grado_pertenencia(clusters, punto1))\n",
    "grado_pertenencia(clusters, punto2)"
   ]
  },
  {
   "cell_type": "code",
   "execution_count": 12,
   "metadata": {},
   "outputs": [],
   "source": [
    "def get_peso(punto1, punto2, punto3, pertenencias):\n",
    "    w = max(pertenencias[punto1])*max(pertenencias[punto2])*max(pertenencias[punto3])\n",
    "    return w\n",
    "\n",
    "def media_ponderada_normalizada(datos, pesos_normalizados):\n",
    "    acumulador = 0;\n",
    "    for i in range(0, len(datos)):\n",
    "        acumulador = acumulador + datos[i]*pesos_normalizados[i]\n",
    "    return acumulador;"
   ]
  },
  {
   "cell_type": "code",
   "execution_count": 37,
   "metadata": {},
   "outputs": [],
   "source": [
    "#OBJETIVO ESPECÍFICO 4\n",
    "from random import sample \n",
    "import random as r \n",
    "def encontrar_circulos_por_pertenencia_random(puntos, seed, pertenencias, clusters):\n",
    "    circulos = []\n",
    "    puntos_cluster = {}\n",
    "    for c in clusters:\n",
    "        puntos_cluster[c]=[]; #Inicializamos los valores del diccionario con los clusters como key\n",
    "    #Buscamos el cluster con mayor grado de pertenencia para cada punto\n",
    "    for p in puntos:\n",
    "        grados = pertenencias[p]\n",
    "        indice_cluster = 0;\n",
    "        for g in range(0, len(grados)):\n",
    "            if grados[g]>grados[indice_cluster]:\n",
    "                indice_cluster = g;\n",
    "        #Introducimos el punto en la lista de puntos de su cluster\n",
    "        puntos_cluster[clusters[indice_cluster]].append(p);\n",
    "    #Para cada cluster, calculamos un círculo nuevo que se ajuste a los puntos que pertenecen a él\n",
    "\n",
    "    for cluster in puntos_cluster:\n",
    "        puntos = puntos_cluster[cluster];\n",
    "        circulos_para_media = [];\n",
    "        pesos = [];\n",
    "        for x in range(0, len(puntos)): #Ampliable al valor que se quiera dado que se cogerán puntos aleatoriamente siempre\n",
    "            r.seed(seed);\n",
    "            puntos_random=sample(puntos,3);\n",
    "            circulos_para_media.append(find_circle(puntos_random[0], puntos_random[1], puntos_random[2]));\n",
    "            pesos.append(get_peso(puntos_random[0], puntos_random[1], puntos_random[2], pertenencias));\n",
    "        #Normalizaremos los pesos para hacer una media ponderada teniendo en cuenta el grado de pertenencia de cada\n",
    "        #punto al cluster\n",
    "        suma_pesos = sum(pesos);\n",
    "        pesos_normalizados = [];\n",
    "        for i in range (0, len(pesos)):\n",
    "            pesos_normalizados.append(pesos[i]/suma_pesos);\n",
    "        centros_x = [];\n",
    "        for i in range (0, len(circulos_para_media)):\n",
    "            centros_x.append(circulos_para_media[i][0][0]);\n",
    "        centros_y = [];\n",
    "        for i in range (0, len(circulos_para_media)):\n",
    "            centros_y.append(circulos_para_media[i][0][1]);\n",
    "        centro_media = (media_ponderada_normalizada(centros_x, pesos_normalizados), media_ponderada_normalizada(centros_y, pesos_normalizados))\n",
    "        radios = [];\n",
    "        for i in range (0, len(circulos_para_media)):\n",
    "            radios.append(circulos_para_media[i][1]);\n",
    "        radio_media = media_ponderada_normalizada(radios, pesos_normalizados);\n",
    "            \n",
    "        \n",
    "        circulos.append((centro_media, radio_media));\n",
    "    return circulos;"
   ]
  },
  {
   "cell_type": "code",
   "execution_count": null,
   "metadata": {},
   "outputs": [],
   "source": [
    "        "
   ]
  },
  {
   "cell_type": "code",
   "execution_count": null,
   "metadata": {},
   "outputs": [],
   "source": []
  },
  {
   "cell_type": "code",
   "execution_count": null,
   "metadata": {},
   "outputs": [],
   "source": [
    "diccionario  = {((1.2, 2.), 3): []}\n",
    "diccionario[((1.2,2.), 3)].append((1.2,3.))\n",
    "diccionario[((2.3,4),5)] = []\n",
    "diccionario\n"
   ]
  },
  {
   "cell_type": "code",
   "execution_count": null,
   "metadata": {},
   "outputs": [],
   "source": [
    "circles_weight = [(((x,y),r),w), (((x,y),r),w)]\n",
    "circles_weight[i][0][0][0] #x\n",
    "circles_weight[i][0][0][1] #y\n",
    "circles_weight[i][0][1] #radio\n",
    "circles_weight[i][1] #peso"
   ]
  },
  {
   "cell_type": "code",
   "execution_count": 52,
   "metadata": {},
   "outputs": [
    {
     "name": "stdout",
     "output_type": "stream",
     "text": [
      "{(9, 7): [0.7406337178385322, 0.2593662821614678], (7.7, 6.5): [0.8777657942999755, 0.12223420570002452], (7, 5): [0.7820251611764839, 0.21797483882351612], (11, 5): [0.8906314620414016, 0.10936853795859844], (9, 3): [0.6923076923076923, 0.30769230769230765], (10.3, 3.5): [0.7704023348824451, 0.2295976651175549], (7.3, 4): [0.6680703201812775, 0.3319296798187225], (10.3, 6.5): [0.9157052976433946, 0.08429470235660541], (3, 2): [0.07923616745452473, 0.9207638325454753], (2, 3): [0.07619328883106415, 0.9238067111689359], (1, 2): [0.09009345814565807, 0.9099065418543419], (2, 1): [0.09252184964173306, 0.907478150358267], (1.2, 1.4): [0.10673043568266445, 0.8932695643173355], (1.2, 2.6): [0.047114975353884904, 0.9528850246461151], (2.7, 1.3): [0.033660017054950725, 0.9663399829450492], (2.8, 2.6): [0.15818487721784125, 0.8418151227821589]}\n"
     ]
    },
    {
     "data": {
      "text/plain": [
       "[((9.02037037037037, 4.9796296296296285), 1.97973),\n",
       " ((1.9923076923076926, 1.984615384615385), 0.98465)]"
      ]
     },
     "execution_count": 52,
     "metadata": {},
     "output_type": "execute_result"
    }
   ],
   "source": [
    "clusters = [((9,7), 2), ((3, 3), 1.5)] #Tupla con las coordenadas del centro y el radio del cluster\n",
    "puntos = [(9, 7), (7.7, 6.5), (7, 5), (11, 5), (9, 3), (10.3, 3.5), (7.3, 4), (10.3, 6.5), (3, 2), (2, 3), (1, 2), (2, 1), (1.2, 1.4), (1.2, 2.6), (2.7, 1.3), (2.8, 2.6)];\n",
    "pertenencias = {} #Diccionario de tuplas, la Key será el punto y en value, por orden de cluster, su pertenencia\n",
    "seed = 3;\n",
    "for p in puntos:\n",
    "    pertenencias[p] = grado_pertenencia(clusters, p);\n",
    "print(pertenencias);\n",
    "encontrar_circulos_por_pertenencia_random(puntos, seed, pertenencias, clusters)"
   ]
  },
  {
   "cell_type": "code",
   "execution_count": null,
   "metadata": {},
   "outputs": [],
   "source": []
  }
 ],
 "metadata": {
  "kernelspec": {
   "display_name": "Python 3",
   "language": "python",
   "name": "python3"
  },
  "language_info": {
   "codemirror_mode": {
    "name": "ipython",
    "version": 3
   },
   "file_extension": ".py",
   "mimetype": "text/x-python",
   "name": "python",
   "nbconvert_exporter": "python",
   "pygments_lexer": "ipython3",
   "version": "3.7.6"
  }
 },
 "nbformat": 4,
 "nbformat_minor": 4
}
